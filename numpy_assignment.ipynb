{
  "nbformat": 4,
  "nbformat_minor": 0,
  "metadata": {
    "colab": {
      "name": "Untitled0.ipynb",
      "provenance": [],
      "collapsed_sections": [],
      "toc_visible": true,
      "machine_shape": "hm",
      "authorship_tag": "ABX9TyONwY/7+rZp04R2vofldDux",
      "include_colab_link": true
    },
    "kernelspec": {
      "name": "python3",
      "display_name": "Python 3"
    }
  },
  "cells": [
    {
      "cell_type": "markdown",
      "metadata": {
        "id": "view-in-github",
        "colab_type": "text"
      },
      "source": [
        "<a href=\"https://colab.research.google.com/github/sandymadrid/Datascience_Course/blob/master/numpy_assignment.ipynb\" target=\"_parent\"><img src=\"https://colab.research.google.com/assets/colab-badge.svg\" alt=\"Open In Colab\"/></a>"
      ]
    },
    {
      "cell_type": "code",
      "metadata": {
        "id": "INXVnQS-Rh-u",
        "colab_type": "code",
        "colab": {}
      },
      "source": [
        "import numpy as ny"
      ],
      "execution_count": 0,
      "outputs": []
    },
    {
      "cell_type": "code",
      "metadata": {
        "id": "smkVg85HRtjI",
        "colab_type": "code",
        "outputId": "6fcc7a50-95f4-4122-e167-5ab3433e9439",
        "colab": {
          "base_uri": "https://localhost:8080/",
          "height": 68
        }
      },
      "source": [
        "%%time\n",
        "npoints = 100000000\n",
        "points = ny.random.rand(npoints,2)\n",
        "points_sqr = points ** 2\n",
        "dfo = ny.sqrt(ny.sum(points_sqr,axis = 1))\n",
        "outside_points = ny.sum(dfo > 1)\n",
        "print(\"Area is \",(outside_points/npoints)*100)"
      ],
      "execution_count": 0,
      "outputs": [
        {
          "output_type": "stream",
          "text": [
            "Area is  21.462811000000002\n",
            "CPU times: user 3.66 s, sys: 873 ms, total: 4.54 s\n",
            "Wall time: 4.54 s\n"
          ],
          "name": "stdout"
        }
      ]
    },
    {
      "cell_type": "markdown",
      "metadata": {
        "id": "7qUuXmG3q5ki",
        "colab_type": "text"
      },
      "source": [
        "# Stats with numpy \n"
      ]
    },
    {
      "cell_type": "code",
      "metadata": {
        "id": "6SXQldJGq8_R",
        "colab_type": "code",
        "colab": {}
      },
      "source": [
        "arr = ny.random.rand(1000)\n"
      ],
      "execution_count": 0,
      "outputs": []
    },
    {
      "cell_type": "code",
      "metadata": {
        "id": "6655f6V_tHm2",
        "colab_type": "code",
        "outputId": "964335bf-4cbd-48c5-95c5-6f35fd1bd1b8",
        "colab": {
          "base_uri": "https://localhost:8080/",
          "height": 34
        }
      },
      "source": [
        "hist_arr = ny.histogram(arr,bins = 3)\n",
        "hist_arr[0]\n",
        "ny.sum(hist_arr[0])"
      ],
      "execution_count": 0,
      "outputs": [
        {
          "output_type": "execute_result",
          "data": {
            "text/plain": [
              "1000"
            ]
          },
          "metadata": {
            "tags": []
          },
          "execution_count": 26
        }
      ]
    },
    {
      "cell_type": "code",
      "metadata": {
        "id": "zSw0oe4VwLk0",
        "colab_type": "code",
        "colab": {}
      },
      "source": [
        "arr1 = ny.random.randint(100,120,100)\n",
        "\n",
        "arr2 = ny.random.randint(15,20,100)\n",
        "\n",
        "arry_final = ny.vstack([arr1,arr2])\n",
        "\n",
        "ny.min(arry_final,axis = 1)"
      ],
      "execution_count": 0,
      "outputs": []
    },
    {
      "cell_type": "markdown",
      "metadata": {
        "id": "VSTLTbWDrGhz",
        "colab_type": "text"
      },
      "source": [
        "# Problem\n"
      ]
    },
    {
      "cell_type": "code",
      "metadata": {
        "id": "90oFE8cxrE74",
        "colab_type": "code",
        "outputId": "f0e89b78-f012-4e57-d8f6-071d9ee46b00",
        "colab": {
          "base_uri": "https://localhost:8080/",
          "height": 272
        }
      },
      "source": [
        "!cat cric_data.tsv | head -15"
      ],
      "execution_count": 0,
      "outputs": [
        {
          "output_type": "stream",
          "text": [
            "\tSachin Tendulkar\tRahul Dravid\tIndia\n",
            "0\t100\t78\t342\n",
            "1\t11\t62\t191\n",
            "2\t8\t85\t252\n",
            "3\t71\t24\t307\n",
            "4\t104\t17\t229\n",
            "5\t18\t104\t246\n",
            "6\t8\t76\t226\n",
            "7\t86\t74\t288\n",
            "8\t12\t60\t216\n",
            "9\t85\t12\t224\n",
            "10\t18\t63\t161\n",
            "11\t4\t107\t276\n",
            "12\t7\t76\t283\n",
            "13\t37\t4\t297\n"
          ],
          "name": "stdout"
        }
      ]
    },
    {
      "cell_type": "code",
      "metadata": {
        "id": "JP322cedrTOm",
        "colab_type": "code",
        "colab": {}
      },
      "source": [
        "import numpy as np\n",
        "\n",
        "cric_data = np.loadtxt('cric_data.tsv',skiprows=1,usecols = (1,2,3))\n",
        "\n",
        "print(cric_data)"
      ],
      "execution_count": 0,
      "outputs": []
    },
    {
      "cell_type": "code",
      "metadata": {
        "id": "ziuwVLrQuS0S",
        "colab_type": "code",
        "outputId": "7fd91daa-c246-4544-d15a-f85f79237a2b",
        "colab": {
          "base_uri": "https://localhost:8080/",
          "height": 119
        }
      },
      "source": [
        "mean = np.mean(cric_data,axis=0)\n",
        "median = np.median(cric_data,axis = 0 )\n",
        "perc_25_50 = np.percentile(cric_data,(25,75),axis = 0)\n",
        "iqr = perc_25_50[1] - perc_25_50[0]\n",
        "\n",
        "print('Mean:',mean,' Median',median,'IQR',iqr,sep= '\\n')"
      ],
      "execution_count": 0,
      "outputs": [
        {
          "output_type": "stream",
          "text": [
            "Mean:\n",
            "[ 39.87555556  32.06222222 220.79555556]\n",
            " Median\n",
            "[ 27.  22. 216.]\n",
            "IQR\n",
            "[57. 46. 98.]\n"
          ],
          "name": "stdout"
        }
      ]
    },
    {
      "cell_type": "code",
      "metadata": {
        "id": "LciuH0mNu8ct",
        "colab_type": "code",
        "outputId": "8c663e40-5f6f-4519-8e0a-b99e947d7e9e",
        "colab": {
          "base_uri": "https://localhost:8080/",
          "height": 68
        }
      },
      "source": [
        "np.histogram(cric_data[:,0],bins = 10)\n"
      ],
      "execution_count": 0,
      "outputs": [
        {
          "output_type": "execute_result",
          "data": {
            "text/plain": [
              "(array([99, 36, 28, 16, 11, 17,  8,  8,  1,  1]),\n",
              " array([  0. ,  18.6,  37.2,  55.8,  74.4,  93. , 111.6, 130.2, 148.8,\n",
              "        167.4, 186. ]))"
            ]
          },
          "metadata": {
            "tags": []
          },
          "execution_count": 40
        }
      ]
    },
    {
      "cell_type": "code",
      "metadata": {
        "id": "_8o5TPNMwyTc",
        "colab_type": "code",
        "outputId": "cb11c981-29b8-4355-a6af-ad26116f9daa",
        "colab": {
          "base_uri": "https://localhost:8080/",
          "height": 34
        }
      },
      "source": [
        "sachin_25 = np.reshape(cric_data[:,0],(9,25))\n",
        "np.mean(sachin_25,axis  = 1)"
      ],
      "execution_count": 0,
      "outputs": [
        {
          "output_type": "execute_result",
          "data": {
            "text/plain": [
              "array([33.96, 49.4 , 38.48, 40.16, 39.36, 38.2 , 44.6 , 39.52, 35.2 ])"
            ]
          },
          "metadata": {
            "tags": []
          },
          "execution_count": 45
        }
      ]
    },
    {
      "cell_type": "code",
      "metadata": {
        "id": "hv7AhyiTzHye",
        "colab_type": "code",
        "outputId": "ec37e04d-d2a9-4fc0-9cee-86858049a6c1",
        "colab": {
          "base_uri": "https://localhost:8080/",
          "height": 34
        }
      },
      "source": [
        "sachin = cric_data[:,0]\n",
        "rahul = cric_data[:,1]\n",
        "india = cric_data[:,2]\n",
        "np.mean(sachin[sachin >= 100])"
      ],
      "execution_count": 0,
      "outputs": [
        {
          "output_type": "execute_result",
          "data": {
            "text/plain": [
              "125.0"
            ]
          },
          "metadata": {
            "tags": []
          },
          "execution_count": 66
        }
      ]
    },
    {
      "cell_type": "code",
      "metadata": {
        "id": "FI_wyKFIzq3A",
        "colab_type": "code",
        "outputId": "52b88628-781e-4934-f834-faa6e982bfd1",
        "colab": {
          "base_uri": "https://localhost:8080/",
          "height": 34
        }
      },
      "source": [
        "np.mean(cric_data[cric_data[:,1] <=10,0])"
      ],
      "execution_count": 0,
      "outputs": [
        {
          "output_type": "execute_result",
          "data": {
            "text/plain": [
              "40.2112676056338"
            ]
          },
          "metadata": {
            "tags": []
          },
          "execution_count": 56
        }
      ]
    },
    {
      "cell_type": "code",
      "metadata": {
        "id": "4okwQkpe1M5T",
        "colab_type": "code",
        "outputId": "8156e3de-9843-47c8-f0bc-1f1e610c5626",
        "colab": {
          "base_uri": "https://localhost:8080/",
          "height": 85
        }
      },
      "source": [
        "qtrs = np.percentile(india,[25,50,75,100])\n",
        "qtrs =qtrs.reshape(4,1)\n",
        "indices = india < qtrs\n",
        "\n",
        "for i in range(4):\n",
        "  print(i,np.mean(sachin[indices[i,:]]))"
      ],
      "execution_count": 0,
      "outputs": [
        {
          "output_type": "stream",
          "text": [
            "0 19.672727272727272\n",
            "1 28.18018018018018\n",
            "2 31.688622754491018\n",
            "3 39.799107142857146\n"
          ],
          "name": "stdout"
        }
      ]
    },
    {
      "cell_type": "code",
      "metadata": {
        "id": "5vbGthQsB2lK",
        "colab_type": "code",
        "outputId": "3a376ce9-ffbd-4066-d3ae-2607a63a539a",
        "colab": {
          "base_uri": "https://localhost:8080/",
          "height": 204
        }
      },
      "source": [
        "sr= cric_data[:,0:2]\n",
        "np.argmax(sr,axis = 1)"
      ],
      "execution_count": 0,
      "outputs": [
        {
          "output_type": "execute_result",
          "data": {
            "text/plain": [
              "array([0, 1, 1, 0, 0, 1, 1, 0, 1, 0, 1, 1, 1, 0, 0, 1, 1, 0, 1, 1, 0, 1,\n",
              "       0, 0, 1, 0, 0, 0, 0, 0, 0, 0, 1, 1, 0, 1, 1, 0, 1, 0, 0, 0, 0, 1,\n",
              "       0, 1, 1, 0, 1, 0, 1, 1, 1, 1, 0, 1, 0, 0, 1, 1, 1, 0, 1, 0, 0, 0,\n",
              "       0, 1, 0, 1, 1, 0, 0, 1, 1, 0, 1, 1, 0, 1, 1, 1, 1, 1, 1, 0, 0, 0,\n",
              "       1, 0, 0, 0, 0, 0, 0, 1, 1, 0, 1, 0, 0, 1, 1, 1, 1, 0, 1, 1, 0, 0,\n",
              "       0, 0, 1, 0, 1, 0, 0, 0, 1, 0, 1, 0, 0, 0, 0, 1, 0, 1, 1, 0, 0, 1,\n",
              "       0, 1, 0, 0, 0, 0, 0, 0, 1, 1, 1, 0, 0, 0, 0, 1, 0, 1, 0, 0, 0, 0,\n",
              "       1, 1, 1, 0, 1, 0, 1, 0, 1, 0, 0, 1, 0, 1, 1, 0, 0, 1, 0, 0, 0, 0,\n",
              "       1, 0, 1, 1, 0, 0, 0, 0, 1, 1, 1, 0, 1, 1, 1, 1, 0, 1, 1, 0, 1, 1,\n",
              "       0, 1, 0, 0, 0, 1, 0, 1, 1, 1, 0, 0, 0, 1, 1, 0, 1, 0, 1, 1, 1, 1,\n",
              "       0, 0, 1, 0, 0])"
            ]
          },
          "metadata": {
            "tags": []
          },
          "execution_count": 115
        }
      ]
    },
    {
      "cell_type": "code",
      "metadata": {
        "id": "L72NlK8jQ93w",
        "colab_type": "code",
        "colab": {
          "base_uri": "https://localhost:8080/",
          "height": 34
        },
        "outputId": "3382968c-3690-4d0e-920b-440579c18681"
      },
      "source": [
        "a = np.array([1,2,3,4,5])\n",
        "print(a[2:None])"
      ],
      "execution_count": 133,
      "outputs": [
        {
          "output_type": "stream",
          "text": [
            "[3 4 5]\n"
          ],
          "name": "stdout"
        }
      ]
    }
  ]
}